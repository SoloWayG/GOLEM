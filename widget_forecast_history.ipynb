{
 "cells": [
  {
   "cell_type": "code",
   "execution_count": 1,
   "id": "604afa56",
   "metadata": {},
   "outputs": [],
   "source": [
    "import ipywidgets as widgets\n",
    "from IPython.utils import io\n",
    "from IPython.display import display\n",
    "import numpy as np\n",
    "import pandas as pd\n",
    "from sklearn.metrics import mean_squared_error, mean_absolute_error\n",
    "import pickle\n",
    "import matplotlib.pyplot as plt\n",
    "import warnings\n",
    "warnings.filterwarnings(\"ignore\")\n",
    "import time"
   ]
  },
  {
   "cell_type": "code",
   "execution_count": 2,
   "id": "04a43454",
   "metadata": {},
   "outputs": [],
   "source": [
    "from rdkit import Chem\n",
    "\n",
    "from rdkit.Chem.Draw import IPythonConsole\n",
    "from rdkit.Chem import Draw, rdDepictor\n",
    "from rdkit.Chem.Draw import rdMolDraw2D\n",
    "from IPython.display import SVG\n",
    "from random import randrange\n",
    "import svgutils.compose as sc\n"
   ]
  },
  {
   "cell_type": "code",
   "execution_count": 3,
   "id": "c8720c5e",
   "metadata": {},
   "outputs": [],
   "source": [
    "import argparse\n",
    "import os.path\n",
    "import sys\n",
    "from datetime import timedelta\n",
    "from pathlib import Path\n",
    "from typing import Type, Optional, Sequence, List, Iterable, Callable\n",
    "#sys.path.insert(0, os.getcwd())\n",
    "sys.path.append( os.getcwd())\n",
    "\n",
    "\n",
    "import numpy as np\n",
    "import pandas as pd\n",
    "from random import randrange\n",
    "\n",
    "from golem_examples.molecule_search.analysis import get_final_dataset, visualize_results, get_statistical_significance,plot_experiment_comparison\n",
    "from golem.core.dag.verification_rules import has_no_self_cycled_nodes, has_no_isolated_components, \\\n",
    "    has_no_isolated_nodes\n",
    "from golem.core.optimisers.adaptive.operator_agent import MutationAgentTypeEnum\n",
    "from golem.core.optimisers.genetic.gp_optimizer import EvoGraphOptimizer\n",
    "from golem.core.optimisers.genetic.gp_params import GPAlgorithmParameters\n",
    "from golem.core.optimisers.genetic.operators.crossover import CrossoverTypesEnum\n",
    "from golem.core.optimisers.genetic.operators.elitism import ElitismTypesEnum\n",
    "from golem.core.optimisers.genetic.operators.inheritance import GeneticSchemeTypesEnum\n",
    "from golem.core.optimisers.objective import Objective\n",
    "from golem.core.optimisers.optimizer import GraphGenerationParams, GraphOptimizer\n",
    "from golem.core.optimisers.adaptive.agent_trainer import AgentTrainer\n",
    "from golem.core.optimisers.adaptive.history_collector import HistoryReader\n",
    "from rdkit import RDConfig\n",
    "from rdkit.Chem.rdchem import BondType\n",
    "\n",
    "from golem_examples.molecule_search.mol_adapter import MolAdapter\n",
    "from golem_examples.molecule_search.mol_advisor import MolChangeAdvisor\n",
    "from golem_examples.molecule_search.mol_graph import MolGraph\n",
    "from golem_examples.molecule_search.mol_graph_parameters import MolGraphRequirements\n",
    "from golem_examples.molecule_search.mol_metrics import CocrystalsMetrics, sa_score\n",
    "from golem_examples.molecule_search.mol_mutations import CHEMICAL_MUTATIONS\n",
    "\n",
    "sys.path.append(os.path.join(RDConfig.RDContribDir, 'SA_Score'))\n",
    "\n",
    "def moltosvg(mol, molSize = (300,300), kekulize = True):\n",
    "    mc = Chem.Mol(mol.ToBinary())\n",
    "    if kekulize:\n",
    "        try:\n",
    "            Chem.Kekulize(mc)\n",
    "        except:\n",
    "            mc = Chem.Mol(mol.ToBinary())\n",
    "    if not mc.GetNumConformers():\n",
    "        rdDepictor.Compute2DCoords(mc)\n",
    "    drawer = rdMolDraw2D.MolDraw2DSVG(molSize[0],molSize[1])\n",
    "    drawer.DrawMolecule(mc)\n",
    "    drawer.FinishDrawing()\n",
    "    svg = drawer.GetDrawingText()\n",
    "    return svg.replace('svg:','')\n",
    "\n",
    "def get_methane() -> MolGraph:\n",
    "    methane = 'C'\n",
    "    return MolGraph.from_smiles(methane)\n",
    "\n",
    "\n",
    "def pretrain_agent(optimizer: EvoGraphOptimizer, objective: Objective, results_dir: str) -> AgentTrainer:\n",
    "    agent = optimizer.mutation.agent\n",
    "    trainer = AgentTrainer(objective, optimizer.mutation, agent)\n",
    "    # load histories\n",
    "    history_reader = HistoryReader(Path(results_dir))\n",
    "    # train agent\n",
    "    trainer.fit(histories=history_reader.load_histories(), validate_each=10)\n",
    "    return trainer\n",
    "\n",
    "\n",
    "def molecule_search_setup(optimizer_cls: Type[GraphOptimizer] = EvoGraphOptimizer,\n",
    "                          adaptive_kind: MutationAgentTypeEnum = MutationAgentTypeEnum.random,\n",
    "                          max_heavy_atoms: int = 50,\n",
    "                          atom_types: Optional[List[str]] = None,\n",
    "                          bond_types: Sequence[BondType] = (BondType.SINGLE, BondType.DOUBLE, BondType.TRIPLE),\n",
    "                          timeout: Optional[timedelta] = None,\n",
    "                          num_iterations: Optional[int] = None,\n",
    "                          pop_size: int = 20,\n",
    "                          drug='CN1C2=C(C(=O)N(C1=O)C)NC=N2',\n",
    "                          initial_molecules: Optional[Sequence[MolGraph]] = None):\n",
    "    requirements = MolGraphRequirements(\n",
    "        max_heavy_atoms=max_heavy_atoms,\n",
    "        available_atom_types=atom_types or ['C', 'N', 'O', 'F', 'P', 'S', 'Cl', 'Br', 'I'],\n",
    "        bond_types=bond_types,\n",
    "        early_stopping_timeout=np.inf,\n",
    "        early_stopping_iterations=np.inf,\n",
    "        keep_n_best=4,\n",
    "        timeout=timeout,\n",
    "        num_of_generations=num_iterations,\n",
    "        keep_history=True,\n",
    "        n_jobs=-1,\n",
    "        history_dir=None,\n",
    "    )\n",
    "    gp_params = GPAlgorithmParameters(\n",
    "        pop_size=pop_size,\n",
    "        max_pop_size=pop_size,\n",
    "        multi_objective=True,\n",
    "        genetic_scheme_type=GeneticSchemeTypesEnum.steady_state,\n",
    "        elitism_type=ElitismTypesEnum.replace_worst,\n",
    "        mutation_types=CHEMICAL_MUTATIONS,\n",
    "        crossover_types=[CrossoverTypesEnum.none],\n",
    "        adaptive_mutation_type=adaptive_kind\n",
    "    )\n",
    "    graph_gen_params = GraphGenerationParams(\n",
    "        adapter=MolAdapter(),\n",
    "        rules_for_constraint=[has_no_self_cycled_nodes, has_no_isolated_components, has_no_isolated_nodes],\n",
    "        advisor=MolChangeAdvisor(),\n",
    "    )\n",
    "\n",
    "    metrics = CocrystalsMetrics(drug)\n",
    "    objective = Objective(\n",
    "        quality_metrics={'orthogonal_planes': metrics.orthogonal_planes,\n",
    "                         'unobstructed': metrics.unobstructed,\n",
    "                         'h_bond_bridging': metrics.h_bond_bridging,\n",
    "                         'sa_score': sa_score},\n",
    "        is_multi_objective=True\n",
    "    )\n",
    "\n",
    "    initial_graphs = initial_molecules or [get_methane()]\n",
    "    initial_graphs = graph_gen_params.adapter.adapt(initial_graphs)\n",
    "\n",
    "    # Build the optimizer\n",
    "    optimiser = optimizer_cls(objective, initial_graphs, requirements, graph_gen_params, gp_params)\n",
    "    return optimiser, objective\n",
    "\n",
    "\n",
    "def run_experiment(optimizer_setup: Callable,\n",
    "                   optimizer_cls: Type[GraphOptimizer] = EvoGraphOptimizer,\n",
    "                   adaptive_kind: MutationAgentTypeEnum = MutationAgentTypeEnum.random,\n",
    "                   max_heavy_atoms: int = 50,\n",
    "                   atom_types: Optional[List[str]] = None,\n",
    "                   bond_types: Sequence[BondType] = (BondType.SINGLE, BondType.DOUBLE, BondType.TRIPLE),\n",
    "                   initial_data_path: Optional[str] = None,\n",
    "                   col_name: str = 'generated_coformers',\n",
    "                   pop_size: int = 20,\n",
    "                   num_trials: int = 1,\n",
    "                   trial_timeout: Optional[int] = None,\n",
    "                   trial_iterations: Optional[int] = None,\n",
    "                   visualize: bool = False,\n",
    "                   save_history: bool = True,\n",
    "                   drug='CN1C2=C(C(=O)N(C1=O)C)NC=N2',\n",
    "                   result_dir: Optional[str] = None,\n",
    "                   pretrain_dir: Optional[str] = None,\n",
    "                   indx:int=0\n",
    "                   ):\n",
    "    optimizer_id = optimizer_cls.__name__.lower()[:3]\n",
    "    experiment_id = f'Experiment [optimizer={optimizer_id} pop_size={pop_size}]'\n",
    "    exp_name = f'init_{Path(initial_data_path).stem}_{optimizer_id}_{adaptive_kind.value}_popsize{pop_size}_min{trial_timeout}'\n",
    "    result_dir = Path(result_dir) / exp_name\n",
    "\n",
    "    initial_smiles = pd.read_csv(initial_data_path)[col_name]\n",
    "\n",
    "\n",
    "    initial_molecules = []\n",
    "    initial_smiles = initial_smiles[indx:indx+1]\n",
    "    for smiles in initial_smiles:\n",
    "        try:\n",
    "            mol = MolGraph.from_smiles(smiles)\n",
    "            initial_molecules.append(mol)\n",
    "        except Exception as ex:\n",
    "            print(ex)\n",
    "            continue\n",
    "\n",
    "    trial_results = []\n",
    "    trial_histories = []\n",
    "    trial_timedelta = timedelta(minutes=trial_timeout) if trial_timeout else None\n",
    "    print(exp_name)\n",
    "    for trial in range(num_trials):\n",
    "        optimizer, objective = optimizer_setup(optimizer_cls,\n",
    "                                               adaptive_kind,\n",
    "                                               max_heavy_atoms,\n",
    "                                               atom_types,\n",
    "                                               bond_types,\n",
    "                                               trial_timedelta,\n",
    "                                               trial_iterations,\n",
    "                                               pop_size,\n",
    "                                               drug,\n",
    "                                               initial_molecules)\n",
    "        if pretrain_dir:\n",
    "            pretrain_agent(optimizer, objective, pretrain_dir)\n",
    "\n",
    "        found_graphs = optimizer.optimise(objective)\n",
    "        history = optimizer.history\n",
    "        if save_history:\n",
    "            result_dir.mkdir(parents=True, exist_ok=True)\n",
    "            history.save(result_dir / f'history_trial_{trial}.json')\n",
    "        trial_results.extend(history.final_choices)\n",
    "        trial_histories.append(history)\n",
    "\n",
    "    # Compute mean & std for metrics of trials\n",
    "    ff = objective.format_fitness\n",
    "    trial_metrics = np.array([ind.fitness.values for ind in trial_results])\n",
    "    trial_metrics_mean = trial_metrics.mean(axis=0)\n",
    "    trial_metrics_std = trial_metrics.std(axis=0)\n",
    "    print(f'Experiment {experiment_id}\\n'\n",
    "          f'finished with metrics:\\n'\n",
    "          f'mean={ff(trial_metrics_mean)}\\n'\n",
    "          f' std={ff(trial_metrics_std)}')\n",
    "    return exp_name, objective\n",
    "\n",
    "\n",
    "# def parameter():\n",
    "#     parser = argparse.ArgumentParser()\n",
    "#     parser.add_argument('-drug',required=False, type=str, default='CN1C2=C(C(=O)N(C1=O)C)NC=N2')\n",
    "#     parser.add_argument('-data_paths',required=False, nargs='+',\n",
    "#                         default=r'results\\CVAE_all_valid.csv',\n",
    "#                         help='')\n",
    "#     parser.add_argument('-coformers_col_name',required=False, type=str, default='generated_coformers')\n",
    "#     parser.add_argument('-results_folder',required=False, type=str, default='results')\n",
    "#     parser.add_argument(\"-f\", required=False, default='results')\n",
    "#     args = parser.parse_args()\n",
    "#     return args\n"
   ]
  },
  {
   "cell_type": "code",
   "execution_count": null,
   "id": "4b58d91b",
   "metadata": {},
   "outputs": [],
   "source": []
  },
  {
   "cell_type": "markdown",
   "id": "accc9d72",
   "metadata": {},
   "source": [
    "Choose drug that need to find co-crystal for"
   ]
  },
  {
   "cell_type": "code",
   "execution_count": 44,
   "id": "6e62d74a",
   "metadata": {},
   "outputs": [],
   "source": [
    "theophylline_smiles = pd.read_csv(r'results\\CVAE_all_valid.csv')\n",
    "benzamide_smiles = pd.read_csv(r'results\\NC(=O)C1=CC=CC=C1.csv')\n",
    "acetazolamide_smiles = pd.read_csv(r'results\\CC(=O)Nc1nnc(s1)S(N)(=O)=O.csv')\n",
    "caffeine_smiles = pd.read_csv(r'results\\CN1C=NC2=C1C(=O)N(C)C(=O)N2C.csv')\n",
    "pyrazinecarboxamide_smiles = pd.read_csv(r'results\\NC(=O)c1cnccn1.csv')"
   ]
  },
  {
   "cell_type": "code",
   "execution_count": 48,
   "id": "3302c293",
   "metadata": {},
   "outputs": [
    {
     "data": {
      "application/vnd.jupyter.widget-view+json": {
       "model_id": "6a4f8149cc6f4330ba87c9818f276c38",
       "version_major": 2,
       "version_minor": 0
      },
      "text/plain": [
       "Dropdown(description='Choose drug:', options=('Theophylline', 'Benzamide', 'Acetazolamide', 'Caffeine', 'Pyraz…"
      ]
     },
     "metadata": {},
     "output_type": "display_data"
    },
    {
     "data": {
      "application/vnd.jupyter.widget-view+json": {
       "model_id": "39596f037557413ca5c1492e544a11bf",
       "version_major": 2,
       "version_minor": 0
      },
      "text/plain": [
       "interactive(children=(Button(description='Show drug', style=ButtonStyle()), Output()), _dom_classes=('widget-i…"
      ]
     },
     "metadata": {},
     "output_type": "display_data"
    }
   ],
   "source": [
    "drugs = widgets.Dropdown(\n",
    "    options=['Theophylline', 'Benzamide', 'Acetazolamide', 'Caffeine','Pyrazinecarboxamide'],\n",
    "    value='Theophylline',\n",
    "    description='Choose drug:',\n",
    "    disabled=False\n",
    ")\n",
    "display(drugs)\n",
    "draw_molecules = widgets.interact.options(manual=True, manual_name=\"Show drug\")\n",
    "drugs_list = {'Theophylline':['CN1C2=C(C(=O)N(C1=O)C)NC=N2',theophylline_smiles['generated_coformers'],theophylline_smiles['sa_score']],\n",
    "              'Benzamide':['NC(=O)C1=CC=CC=C1',benzamide_smiles['generated_coformers'],benzamide_smiles['sa_score']],\n",
    "              'Acetazolamide':['CC(=O)Nc1nnc(s1)S(N)(=O)=O',acetazolamide_smiles['generated_coformers'],acetazolamide_smiles['sa_score']],\n",
    "              'Caffeine':['CN1C=NC2=C1C(=O)N(C)C(=O)N2C',caffeine_smiles['generated_coformers'],caffeine_smiles['sa_score']],\n",
    "              'Pyrazinecarboxamide':['NC(=O)c1cnccn1',pyrazinecarboxamide_smiles['generated_coformers'],pyrazinecarboxamide_smiles['sa_score']]}\n",
    "@draw_molecules\n",
    "def generate():\n",
    "    # display((drugs_list[drugs.value][0]))\n",
    "    # display(SVG(moltosvg(Chem.MolFromSmiles(drugs_list[drugs.value][0]))))\n",
    "\n",
    "    display(Draw.MolsToGridImage([Chem.MolFromSmiles(drugs_list[drugs.value][0])],\n",
    "                                    molsPerRow=min(1, 1),\n",
    "                                    legends=[drugs_list[drugs.value][0]],\n",
    "                                    subImgSize=(250, 250)))"
   ]
  },
  {
   "cell_type": "code",
   "execution_count": 6,
   "id": "0d1af054",
   "metadata": {},
   "outputs": [],
   "source": [
    "# pop_size = widgets.Dropdown(\n",
    "#     options=[5, 10, 20, 50],\n",
    "#     value=10,\n",
    "#     description='Population size:',\n",
    "#     disabled=False\n",
    "# )\n",
    "# trial_iterations = widgets.Dropdown(\n",
    "#     options=[5, 10, 20, 50],\n",
    "#     value=20,\n",
    "#     description='Iterations:',\n",
    "#     disabled=False\n",
    "# )\n",
    "# display(pop_size)\n",
    "# display(trial_iterations)"
   ]
  },
  {
   "cell_type": "code",
   "execution_count": 17,
   "id": "08f51d1c",
   "metadata": {},
   "outputs": [],
   "source": [
    "pop_size = widgets.IntSlider(\n",
    "    value=10,\n",
    "    min=5,\n",
    "    max=25,\n",
    "    step=1,\n",
    "    description='Population size:',\n",
    "    disabled=False,\n",
    "    continuous_update=False,\n",
    "    orientation='horizontal',\n",
    "    readout=True,\n",
    "    readout_format='d'\n",
    ")\n",
    "trial_iterations = widgets.IntSlider(\n",
    "    value=20,\n",
    "    min=10,\n",
    "    max=55,\n",
    "    step=1,\n",
    "    description='Iterations:',\n",
    "    disabled=False,\n",
    "    continuous_update=False,\n",
    "    orientation='horizontal',\n",
    "    readout=True,\n",
    "    readout_format='d'\n",
    ")\n",
    "\n"
   ]
  },
  {
   "cell_type": "code",
   "execution_count": null,
   "id": "c1eba08f",
   "metadata": {},
   "outputs": [],
   "source": [
    "+\"\\nSA  :\"+str(drugs_list[drugs.value][2])"
   ]
  },
  {
   "cell_type": "code",
   "execution_count": 72,
   "id": "4f30356d",
   "metadata": {},
   "outputs": [
    {
     "data": {
      "application/vnd.jupyter.widget-view+json": {
       "model_id": "f913a20b955e409194515c8ef29059d7",
       "version_major": 2,
       "version_minor": 0
      },
      "text/plain": [
       "interactive(children=(Button(description='Generate', style=ButtonStyle()), Output()), _dom_classes=('widget-in…"
      ]
     },
     "metadata": {},
     "output_type": "display_data"
    }
   ],
   "source": [
    "generate_molecules = widgets.interact.options(manual=True, manual_name=\"Generate\")\n",
    "\n",
    "@generate_molecules\n",
    "def generate():\n",
    "    global ind\n",
    "    ind = randrange(len(drugs_list[drugs.value][1]))\n",
    "    for i in range(randrange(5)):\n",
    "        print('Generation in progress...')\n",
    "        time.sleep(0.5)\n",
    "    print('Generation done!')\n",
    "    display(Draw.MolsToGridImage([Chem.MolFromSmiles(drugs_list[drugs.value][0]),Chem.MolFromSmiles(drugs_list[drugs.value][1][ind])],\n",
    "                                    molsPerRow=min(2, 2),\n",
    "                                    legends=[drugs_list[drugs.value][0],str(drugs_list[drugs.value][1][ind]+'  | SA score:  '+str(round(drugs_list[drugs.value][2][ind],2)))],\n",
    "                                    subImgSize=(500, 500)))\n",
    "    #display(SVG(moltosvg(Chem.MolFromSmiles(drugs_list[drugs.value][1][ind]))))\n",
    "    "
   ]
  },
  {
   "cell_type": "code",
   "execution_count": 19,
   "id": "9fe137ca",
   "metadata": {},
   "outputs": [
    {
     "data": {
      "application/vnd.jupyter.widget-view+json": {
       "model_id": "04c2998c333442cdac97665e66830946",
       "version_major": 2,
       "version_minor": 0
      },
      "text/plain": [
       "IntSlider(value=5, continuous_update=False, description='Population size:', max=25, min=5)"
      ]
     },
     "metadata": {},
     "output_type": "display_data"
    },
    {
     "data": {
      "application/vnd.jupyter.widget-view+json": {
       "model_id": "1d26503d5b1a4362aa09ad855a837a2b",
       "version_major": 2,
       "version_minor": 0
      },
      "text/plain": [
       "IntSlider(value=55, continuous_update=False, description='Iterations:', max=55, min=10)"
      ]
     },
     "metadata": {},
     "output_type": "display_data"
    }
   ],
   "source": [
    "display(pop_size)\n",
    "display(trial_iterations)"
   ]
  },
  {
   "cell_type": "code",
   "execution_count": 10,
   "id": "b98a7b0c",
   "metadata": {},
   "outputs": [],
   "source": [
    "from golem.core.log import Log\n",
    "def main(indx):\n",
    "    Log().reset_logging_level(100)\n",
    "    #args = parameter()\n",
    "    drug = drugs_list[drugs.value][0]\n",
    "    data_paths = [r'results\\CVAE_all_valid.csv']\n",
    "    col_name = 'generated_coformers'\n",
    "    results_folder = 'results'\n",
    "\n",
    "    exp_ids = []\n",
    "    for init_path in data_paths:\n",
    "        exp_id, objective = run_experiment(molecule_search_setup,\n",
    "                                           initial_data_path=init_path,\n",
    "                                           col_name=col_name,\n",
    "                                           max_heavy_atoms=50,\n",
    "                                           trial_timeout=10,\n",
    "                                           trial_iterations=trial_iterations.value,\n",
    "                                           pop_size=pop_size.value,\n",
    "                                           visualize=False,\n",
    "                                           num_trials=1,\n",
    "                                           drug=drug,\n",
    "                                           result_dir=results_folder,\n",
    "                                           adaptive_kind=MutationAgentTypeEnum.random,\n",
    "                                           pretrain_dir=None,\n",
    "                                           indx = indx\n",
    "                                           )\n",
    "        exp_ids.append(exp_id)\n",
    "        exp_results_folder = os.path.join(results_folder, exp_id)\n",
    "        os.makedirs(exp_results_folder, exist_ok=True)\n",
    "\n",
    "        init_df = pd.read_csv(init_path)\n",
    "        golem_result = get_final_dataset(exp_results_folder)\n",
    "    return exp_results_folder"
   ]
  },
  {
   "cell_type": "code",
   "execution_count": 11,
   "id": "595ea1a1",
   "metadata": {},
   "outputs": [
    {
     "data": {
      "application/vnd.jupyter.widget-view+json": {
       "model_id": "0a58f260d4d148aba3546071c6a2670f",
       "version_major": 2,
       "version_minor": 0
      },
      "text/plain": [
       "interactive(children=(Button(description='Optimize this molecule', style=ButtonStyle()), Output()), _dom_class…"
      ]
     },
     "metadata": {},
     "output_type": "display_data"
    }
   ],
   "source": [
    "\n",
    "\n",
    "optimize = widgets.interact.options(manual=True, manual_name=\"Optimize this molecule\")\n",
    "\n",
    "@optimize\n",
    "def optimizing():\n",
    "    path_to_mols = main(indx=ind)\n",
    "    global optimized_mols\n",
    "    optimized_mols = pd.read_csv(path_to_mols+'/all_valid.csv')\n",
    "    print('#### Optimizing Done! ####')\n",
    "    \n",
    "    \n",
    "\n"
   ]
  },
  {
   "cell_type": "code",
   "execution_count": 79,
   "id": "d011ac0f",
   "metadata": {},
   "outputs": [],
   "source": [
    "sorted_mols = optimized_mols.sort_values(by='sa_score')\n",
    "molec = [mol for mol in sorted_mols['generated_coformers']]\n",
    "sa = [round(mol,2) for mol in sorted_mols['sa_score']]\n",
    "#fig, ax = plt.subplots(2,5, figsize=(4,4))\n",
    "rw_molecules =  [Chem.MolFromSmiles(mol) for mol in sorted_mols['generated_coformers']]\n",
    "\n",
    "img=Draw.MolsToGridImage(rw_molecules,\n",
    "                                    molsPerRow=min(4, len(rw_molecules)),\n",
    "                                    legends=[str(mol[0]+'\\n  SA score:  '+str(mol[1])) for mol in zip(molec,sa)],\n",
    "                                    subImgSize=(400, 400),returnPNG=False)\n",
    "img.save('fig.png')"
   ]
  },
  {
   "cell_type": "code",
   "execution_count": 77,
   "id": "4be8e34e",
   "metadata": {},
   "outputs": [
    {
     "data": {
      "application/vnd.jupyter.widget-view+json": {
       "model_id": "37836a960c054ee0808945b65d942c7d",
       "version_major": 2,
       "version_minor": 0
      },
      "text/plain": [
       "interactive(children=(Button(description='Show Molecules', style=ButtonStyle()), Output()), _dom_classes=('wid…"
      ]
     },
     "metadata": {},
     "output_type": "display_data"
    }
   ],
   "source": [
    "show_optimized = widgets.interact.options(manual=True, manual_name=\"Show Molecules\")\n",
    "@show_optimized\n",
    "def generate():\n",
    "    sorted_mols = optimized_mols.sort_values(by='sa_score')\n",
    "    molec = [mol for mol in sorted_mols['generated_coformers']]\n",
    "    sa = [round(mol,2) for mol in sorted_mols['sa_score']]\n",
    "    #fig, ax = plt.subplots(2,5, figsize=(4,4))\n",
    "    rw_molecules =  [Chem.MolFromSmiles(mol) for mol in sorted_mols['generated_coformers']]\n",
    "    \n",
    "    display(Draw.MolsToGridImage(rw_molecules,\n",
    "                                    molsPerRow=min(4, len(rw_molecules)),\n",
    "                                    legends=[str(mol[0]+'\\n  SA score:  '+str(mol[1])) for mol in zip(molec,sa)],\n",
    "                                    subImgSize=(400, 400)))\n",
    "    \n",
    "    # for mol in optimized_mols.sort_values(by='orthogonal_planes')['generated_coformers']:\n",
    "    #     display(SVG(moltosvg(Chem.MolFromSmiles(mol))))"
   ]
  },
  {
   "cell_type": "code",
   "execution_count": 14,
   "id": "9ec2274a",
   "metadata": {},
   "outputs": [],
   "source": [
    "# horizon_w = widgets.Dropdown(\n",
    "#     options=[10, 20, 30, 60],\n",
    "#     value=30,\n",
    "#     #60\n",
    "#     description='Horizon:',\n",
    "#     disabled=False\n",
    "# )\n",
    "\n",
    "# history_w = widgets.Dropdown(\n",
    "#     options=[50, 100, 200, 250, 300, 500],\n",
    "#     value=200,\n",
    "#     #300\n",
    "#     description='History size:',\n",
    "#     disabled=False\n",
    "# )\n",
    "\n",
    "# timeout_w = widgets.Dropdown(\n",
    "#     options=[15, 30, 60, 120, 300],\n",
    "#     value=15,\n",
    "#     #120\n",
    "#     description='Timeout (sec)',\n",
    "#     disabled=False\n",
    "# )"
   ]
  },
  {
   "cell_type": "code",
   "execution_count": 15,
   "id": "9bb2c822",
   "metadata": {},
   "outputs": [],
   "source": [
    "# display(horizon_w)\n",
    "# display(history_w)\n",
    "# display(timeout_w)"
   ]
  },
  {
   "cell_type": "code",
   "execution_count": 16,
   "id": "9e9fefb6",
   "metadata": {},
   "outputs": [],
   "source": [
    "# interact_calc=widgets.interact.options(manual=True, manual_name=\"Calculate\")\n",
    "\n",
    "# @interact_calc\n",
    "# def process_pipeline():    \n",
    "#     horizon = horizon_w.value\n",
    "#     history_size = history_w.value\n",
    "#     timeout_sec = timeout_w.value\n",
    "#     timeout = timeout_w.value / 60.\n",
    "#     print(f\"Forecasting horizon: {horizon}\")\n",
    "#     print(f\"History size: {history_size}\")\n",
    "#     print(f\"Timeout: {timeout} min\")\n",
    "    \n",
    "#     if horizon * 2 > history_size:\n",
    "#         print(\"History size is too low! It has to be at least x2 horizon!\")\n",
    "\n",
    "#     with open(f\"data/63/{horizon}_{history_size}_{timeout_sec}_forecast.pickle\", \"rb\") as f:\n",
    "#         forecast = pickle.load(f)\n",
    "    \n",
    "#     with open(f\"data/63/{horizon}_{history_size}_{timeout_sec}_pipeline.pickle\", \"rb\") as p:\n",
    "#         pipeline = pickle.load(p)\n",
    "    \n",
    "#     print(\"Pipeline Graph:\")\n",
    "    \n",
    "#     pipeline.show()\n",
    "\n",
    "#     print(\"Forecasting:\")\n",
    "    \n",
    "#     plot_automl_forecast(df, forecast_horizon=horizon, history_size=history_size, forecast=forecast)"
   ]
  },
  {
   "cell_type": "code",
   "execution_count": null,
   "id": "28f4978c",
   "metadata": {},
   "outputs": [],
   "source": []
  }
 ],
 "metadata": {
  "kernelspec": {
   "display_name": ".venv",
   "language": "python",
   "name": "python3"
  },
  "language_info": {
   "codemirror_mode": {
    "name": "ipython",
    "version": 3
   },
   "file_extension": ".py",
   "mimetype": "text/x-python",
   "name": "python",
   "nbconvert_exporter": "python",
   "pygments_lexer": "ipython3",
   "version": "3.8.0"
  }
 },
 "nbformat": 4,
 "nbformat_minor": 5
}
